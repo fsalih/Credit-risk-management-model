{
 "cells": [
  {
   "cell_type": "markdown",
   "id": "d816ab6e",
   "metadata": {},
   "source": [
    "# Test"
   ]
  },
  {
   "cell_type": "code",
   "execution_count": 1,
   "id": "cdb4c623",
   "metadata": {},
   "outputs": [],
   "source": []
  },
  {
   "cell_type": "code",
   "execution_count": 2,
   "id": "02b055ec",
   "metadata": {
    "tags": []
   },
   "outputs": [],
   "source": [
    "import torch"
   ]
  },
  {
   "cell_type": "code",
   "execution_count": 3,
   "id": "1e191c5d",
   "metadata": {
    "tags": []
   },
   "outputs": [],
   "source": [
    "import torch.nn as nn"
   ]
  },
  {
   "cell_type": "code",
   "execution_count": 4,
   "id": "4b610049",
   "metadata": {
    "tags": []
   },
   "outputs": [
    {
     "data": {
      "text/plain": [
       "True"
      ]
     },
     "execution_count": 4,
     "metadata": {},
     "output_type": "execute_result"
    }
   ],
   "source": [
    "torch.cuda.is_available()"
   ]
  },
  {
   "cell_type": "code",
   "execution_count": 5,
   "id": "3e3eabb5",
   "metadata": {
    "tags": []
   },
   "outputs": [
    {
     "name": "stdout",
     "output_type": "stream",
     "text": [
      "tensor([[0.7209, 0.9404, 0.5645],\n",
      "        [0.3859, 0.4065, 0.2243],\n",
      "        [0.7746, 0.4664, 0.1597],\n",
      "        [0.1633, 0.9118, 0.7845],\n",
      "        [0.3802, 0.6604, 0.3582]])\n"
     ]
    }
   ],
   "source": [
    "x = torch.rand(5, 3)\n",
    "print(x)"
   ]
  },
  {
   "cell_type": "markdown",
   "id": "f2879ada",
   "metadata": {},
   "source": [
    "# Start"
   ]
  },
  {
   "cell_type": "code",
   "execution_count": 1,
   "id": "6ca76079",
   "metadata": {
    "tags": []
   },
   "outputs": [],
   "source": [
    "import numpy as np\n",
    "import pandas as pd"
   ]
  },
  {
   "cell_type": "code",
   "execution_count": 2,
   "id": "5a1944bd",
   "metadata": {
    "tags": []
   },
   "outputs": [],
   "source": [
    "\n",
    "\n",
    "import torch\n",
    "from torch import nn\n",
    "# from torch.optim as optim\n",
    "from torch.utils.data import Dataset\n",
    "from torch.utils.data import DataLoader\n",
    "\n",
    "from sklearn.model_selection import train_test_split\n",
    "from sklearn.metrics import roc_auc_score\n"
   ]
  },
  {
   "cell_type": "code",
   "execution_count": 3,
   "id": "96823dcc",
   "metadata": {
    "tags": []
   },
   "outputs": [],
   "source": [
    "import matplotlib.pyplot as plt"
   ]
  },
  {
   "cell_type": "code",
   "execution_count": 4,
   "id": "bbcb5de0",
   "metadata": {},
   "outputs": [
    {
     "name": "stdout",
     "output_type": "stream",
     "text": [
      "cuda:0\n"
     ]
    }
   ],
   "source": [
    "device = torch.device('cuda:0' if torch.cuda.is_available() else 'cpu')\n",
    "print(device)"
   ]
  },
  {
   "cell_type": "code",
   "execution_count": null,
   "id": "d3f104f4",
   "metadata": {},
   "outputs": [],
   "source": []
  },
  {
   "cell_type": "code",
   "execution_count": 5,
   "id": "6686f371",
   "metadata": {},
   "outputs": [],
   "source": [
    "RS = 42"
   ]
  },
  {
   "cell_type": "code",
   "execution_count": 6,
   "id": "869e9ec7",
   "metadata": {},
   "outputs": [],
   "source": [
    "train = pd.read_pickle('clean-train-5.pkl')\n",
    "test = pd.read_pickle('clean-test-5.pkl')"
   ]
  },
  {
   "cell_type": "code",
   "execution_count": 7,
   "id": "1f32e1dc",
   "metadata": {},
   "outputs": [],
   "source": [
    "target = 'flag'\n",
    "features = train.drop(columns=target).columns.tolist()"
   ]
  },
  {
   "cell_type": "code",
   "execution_count": 8,
   "id": "dafdfeb3",
   "metadata": {},
   "outputs": [],
   "source": [
    "for col in train.columns:\n",
    "    if train[col].dtype == bool:\n",
    "        train[col] = train[col].astype(np.int8)\n",
    "        test[col] = test[col].astype(np.int8)"
   ]
  },
  {
   "cell_type": "code",
   "execution_count": 9,
   "id": "8a1f6929",
   "metadata": {},
   "outputs": [],
   "source": [
    "X = train[features]\n",
    "y = train[target]"
   ]
  },
  {
   "cell_type": "code",
   "execution_count": null,
   "id": "569f1727",
   "metadata": {},
   "outputs": [],
   "source": []
  },
  {
   "cell_type": "code",
   "execution_count": 10,
   "id": "4b7c0eb5",
   "metadata": {},
   "outputs": [],
   "source": [
    "class MyDataset(Dataset):\n",
    "    def __init__(self, X, y):\n",
    "        self.X = torch.from_numpy(X.astype(np.float32))\n",
    "        self.y = torch.from_numpy(y.astype(np.float32))\n",
    "        \n",
    "    def __getitem__(self, index):\n",
    "        return self.X[index], self.y[index]\n",
    "    \n",
    "    def __len__(self):\n",
    "        return self.X.shape[0]\n",
    "\n"
   ]
  },
  {
   "cell_type": "code",
   "execution_count": 11,
   "id": "10678aad",
   "metadata": {},
   "outputs": [],
   "source": [
    "# Инициализируем тренировочный torch.dataset\n",
    "train_dataset = MyDataset(X.values, y.values)\n",
    "\n",
    "# Преобразуем тестовую выборку в torch-тензоры всю целиком\n",
    "X_test_tensor = torch.from_numpy(test[features].values.astype(np.float32))\n",
    "y_test_tensor = torch.from_numpy(test[target].values.astype(np.float32))"
   ]
  },
  {
   "cell_type": "code",
   "execution_count": 15,
   "id": "eed026e1",
   "metadata": {},
   "outputs": [],
   "source": [
    "batch_size = 200\n",
    "\n",
    "# Создайте Dataloader для тренировочной выборки на основе экземпляра train_dataset\n",
    "# Делайте как в видео, размер батча – batch_size\n",
    "train_dataloader = DataLoader(\n",
    "    train_dataset,\n",
    "    batch_size=batch_size,\n",
    "    shuffle=True\n",
    ")"
   ]
  },
  {
   "cell_type": "code",
   "execution_count": 16,
   "id": "32a5b6c0",
   "metadata": {},
   "outputs": [
    {
     "name": "stdout",
     "output_type": "stream",
     "text": [
      "RegressionNet(\n",
      "  (hidden1): Linear(in_features=411, out_features=411, bias=True)\n",
      "  (f1): ReLU()\n",
      "  (dropout): Dropout(p=0.5, inplace=False)\n",
      "  (batchnorm): BatchNorm1d(411, eps=1e-05, momentum=0.1, affine=True, track_running_stats=True)\n",
      "  (hidden2): Linear(in_features=411, out_features=12, bias=True)\n",
      "  (f2): ReLU()\n",
      "  (hidden3): Linear(in_features=12, out_features=6, bias=True)\n",
      "  (f3): ReLU()\n",
      "  (sigmoid): Sigmoid()\n",
      "  (output): Linear(in_features=6, out_features=1, bias=True)\n",
      ")\n"
     ]
    }
   ],
   "source": [
    "class RegressionNet(nn.Module):\n",
    "    def __init__(self, input_dim, hidden_dims, output_dim):\n",
    "        super().__init__()\n",
    "        self.hidden1 = nn.Linear(in_features=input_dim, out_features=hidden_dims[0], bias=True)\n",
    "        self.f1 = nn.ReLU()\n",
    "        \n",
    "        self.dropout = nn.Dropout(0.5)\n",
    "        self.batchnorm = nn.BatchNorm1d(hidden_dims[0])\n",
    "        \n",
    "        self.hidden2 = nn.Linear(in_features=hidden_dims[0], out_features=hidden_dims[1], bias=True)\n",
    "        self.f2 = nn.ReLU()\n",
    "        \n",
    "        # self.batchnorm2 = nn.BatchNorm1d(hidden_dims[1])\n",
    "        \n",
    "        self.hidden3 = nn.Linear(in_features=hidden_dims[1], out_features=hidden_dims[2], bias=True)\n",
    "        self.f3 = nn.ReLU()\n",
    "        \n",
    "        self.sigmoid = nn.Sigmoid()\n",
    "        # self.softmax = nn.Softmax(dim=1)\n",
    "        \n",
    "        self.output = nn.Linear(in_features=hidden_dims[2], out_features=output_dim, bias=True)\n",
    "        \n",
    "    def forward(self, X):\n",
    "        X = self.f1(self.hidden1(X))\n",
    "        \n",
    "        # X = self.batchnorm(X)\n",
    "        # X = self.dropout(X)\n",
    "        \n",
    "        X = self.f2(self.hidden2(X))\n",
    "        # X = self.batchnorm2(X)\n",
    "        \n",
    "        X = self.f3(self.hidden3(X))\n",
    "        X = self.output(X)\n",
    "        X = self.sigmoid(X)\n",
    "        # X = self.softmax(X)\n",
    "        return X\n",
    "\n",
    "torch.manual_seed(RS)\n",
    "\n",
    "# Объявляем экземпляр класса нейронной сети\n",
    "model = RegressionNet(411, (411, 12, 6), 1)\n",
    "\n",
    "model.to(device)  # ++++++++++++++++++++++++++++++++++++++++\n",
    "\n",
    "# Должен напечатать следующее:\n",
    "#\n",
    "# RegressionNet(\n",
    "#   (hidden1): Linear(in_features=8, out_features=24, bias=True)\n",
    "#   (f1): ReLU()\n",
    "#   (hidden2): Linear(in_features=24, out_features=12, bias=True)\n",
    "#   (f2): ReLU()\n",
    "#   (hidden3): Linear(in_features=12, out_features=6, bias=True)\n",
    "#   (f3): ReLU()\n",
    "#   (output): Linear(in_features=6, out_features=1, bias=True)\n",
    "# )\n",
    "#\n",
    "print(model)"
   ]
  },
  {
   "cell_type": "code",
   "execution_count": 17,
   "id": "63f50ee7",
   "metadata": {
    "scrolled": false
   },
   "outputs": [
    {
     "name": "stdout",
     "output_type": "stream",
     "text": [
      "epoch 0 loss_train 0.09852542728185654    rocauc 0.7525375453496241\n",
      "epoch 1 loss_train 0.09896870702505112    rocauc 0.7578759265914918\n",
      "epoch 2 loss_train 0.15473532676696777    rocauc 0.7591959520880971\n",
      "epoch 3 loss_train 0.19849887490272522    rocauc 0.7602724820394284\n",
      "epoch 4 loss_train 0.15640613436698914    rocauc 0.7616308907118239\n",
      "epoch 5 loss_train 0.08709590882062912    rocauc 0.7613870660537999\n",
      "epoch 6 loss_train 0.1165982186794281    rocauc 0.7605847434084356\n",
      "epoch 7 loss_train 0.1833702176809311    rocauc 0.7597703671664352\n",
      "epoch 8 loss_train 0.16251744329929352    rocauc 0.7593558791493179\n",
      "epoch 9 loss_train 0.09117133915424347    rocauc 0.7564337574075118\n",
      "CPU times: total: 14min 17s\n",
      "Wall time: 14min 1s\n"
     ]
    }
   ],
   "source": [
    "%%time\n",
    "# Создайте объект класса, который реализует среднеквадратичную ошибку (MSE).\n",
    "# loss_fn = nn.MSELoss()  # ВАШ КОД ЗДЕСЬ\n",
    "loss_fn = nn.BCELoss()\n",
    "# loss_fn = nn.CrossEntropyLoss()\n",
    "\n",
    "X_test_gpu = X_test_tensor.to(device)\n",
    "\n",
    "\n",
    "# Создаём оптимизатор. Тут будем использовать вариацию стохастического \n",
    "# градиентного спуска Adam. Это адаптивный алгоритм, который выбирает\n",
    "# шаг изменения весов (learning rate) в зависимости от текущей ситуации. \n",
    "# Это очень эффективный алгоритм, который в большинстве случаев работает \n",
    "# лучше, чем обычный градиентный спуск с постоянным шагом. В этой задаче – \n",
    "# точно лучше. Если хотите убедиться, замените Adam на torch.optim.SDG\n",
    "optimizer = torch.optim.Adam(model.parameters(), lr=0.0001)\n",
    "\n",
    "# Делаем 100 эпох\n",
    "num_epochs = 10\n",
    "\n",
    "# Сюда будем сохранять значение функции потерь на тестовой выборке\n",
    "# после каждой эпохи обучения\n",
    "loss_test = []\n",
    "loss_train = []\n",
    "\n",
    "# Реализуйте тренировочный цикл\n",
    "for i in range(num_epochs):  # ВАШ КОД ЗДЕСЬ\n",
    "    for X, y in train_dataloader:  # ВАШ КОД ЗДЕСЬ\n",
    "\n",
    "    # Реализуйте все шаги тренировочного цикла PyTorch\n",
    "    #\n",
    "    # ВАШ КОД ЗДЕСЬ\n",
    "    #\n",
    "        X_g = X.to(device)\n",
    "        y_g = y.to(device)\n",
    "        \n",
    "        pred = model(X_g)\n",
    "        loss = loss_fn(pred, y_g.unsqueeze(-1))\n",
    "        optimizer.zero_grad()\n",
    "        loss.backward()\n",
    "        optimizer.step()\n",
    "\n",
    "    loss_tr = loss_fn(pred, y_g.unsqueeze(-1))\n",
    "    loss_train.append(loss_tr.item())\n",
    "\n",
    "    with torch.no_grad():\n",
    "        pred = model(X_test_gpu).to('cpu').detach().numpy()\n",
    "        rocauc = roc_auc_score(test[target], pred)\n",
    "        loss_test.append(rocauc)\n",
    "    # Конец эпохи: считаем функцию потерь на тестовой выборке, \n",
    "    # сохраняем в список, чтобы потом нарисовать график\n",
    "#         loss = loss_fn(\n",
    "#             model(X_test_tensor),\n",
    "#             y_test_tensor.unsqueeze(-1)\n",
    "#         ).item()\n",
    "#         loss_test.append(loss)\n",
    "    print(f'epoch {i} loss_train {loss_tr}    rocauc {rocauc}')"
   ]
  },
  {
   "cell_type": "code",
   "execution_count": 28,
   "id": "422a6fb5",
   "metadata": {},
   "outputs": [
    {
     "name": "stdout",
     "output_type": "stream",
     "text": [
      "epoch 0 loss_train 0.139598548412323    rocauc 0.7347405704234224\n",
      "epoch 1 loss_train 0.14240841567516327    rocauc 0.7371303518774304\n",
      "epoch 2 loss_train 0.1302129626274109    rocauc 0.7381833096466305\n",
      "epoch 3 loss_train 0.13290223479270935    rocauc 0.7406819385860204\n",
      "epoch 4 loss_train 0.1422562152147293    rocauc 0.74048390600069\n",
      "epoch 5 loss_train 0.1415494978427887    rocauc 0.74226846205861\n",
      "epoch 6 loss_train 0.13240188360214233    rocauc 0.7422218594875989\n",
      "epoch 7 loss_train 0.13692660629749298    rocauc 0.7434756967774446\n",
      "epoch 8 loss_train 0.1358546018600464    rocauc 0.7435731993787332\n",
      "epoch 9 loss_train 0.14681376516819    rocauc 0.7457567993248148\n"
     ]
    }
   ],
   "source": [
    "# Дообучение\n",
    "for i in range(num_epochs):  # ВАШ КОД ЗДЕСЬ\n",
    "    for X, y in train_dataloader:  # ВАШ КОД ЗДЕСЬ\n",
    "\n",
    "    # Реализуйте все шаги тренировочного цикла PyTorch\n",
    "    #\n",
    "    # ВАШ КОД ЗДЕСЬ\n",
    "    #\n",
    "        X_g = X.to(device)\n",
    "        y_g = y.to(device)\n",
    "        \n",
    "        pred = model(X_g)\n",
    "        loss = loss_fn(pred, y_g.unsqueeze(-1))\n",
    "        optimizer.zero_grad()\n",
    "        loss.backward()\n",
    "        optimizer.step()\n",
    "\n",
    "    loss_tr = loss_fn(pred, y_g.unsqueeze(-1))\n",
    "    loss_train.append(loss_tr.item())\n",
    "\n",
    "    with torch.no_grad():\n",
    "        pred = model(X_test_gpu).to('cpu').detach().numpy()\n",
    "        rocauc = roc_auc_score(test[target], pred)\n",
    "    # Конец эпохи: считаем функцию потерь на тестовой выборке, \n",
    "    # сохраняем в список, чтобы потом нарисовать график\n",
    "#         loss = loss_fn(\n",
    "#             model(X_test_tensor),\n",
    "#             y_test_tensor.unsqueeze(-1)\n",
    "#         ).item()\n",
    "#         loss_test.append(loss)\n",
    "    print(f'epoch {i} loss_train {loss_tr}    rocauc {rocauc}')"
   ]
  },
  {
   "cell_type": "code",
   "execution_count": 29,
   "id": "6b082abf",
   "metadata": {},
   "outputs": [
    {
     "name": "stdout",
     "output_type": "stream",
     "text": [
      "epoch 0 loss_train 0.13617216050624847    rocauc 0.7459803832060079\n",
      "epoch 1 loss_train 0.1432255655527115    rocauc 0.7450552715085272\n",
      "epoch 2 loss_train 0.12980107963085175    rocauc 0.7469279809197503\n",
      "epoch 3 loss_train 0.13661377131938934    rocauc 0.7470309522652732\n",
      "epoch 4 loss_train 0.13791076838970184    rocauc 0.7470900427585756\n",
      "epoch 5 loss_train 0.14174149930477142    rocauc 0.7468127751513656\n",
      "epoch 6 loss_train 0.13691213726997375    rocauc 0.747287434199946\n",
      "epoch 7 loss_train 0.1382875144481659    rocauc 0.7482137291773514\n",
      "epoch 8 loss_train 0.1392667293548584    rocauc 0.749108094409934\n",
      "epoch 9 loss_train 0.13881823420524597    rocauc 0.7475037263560225\n",
      "epoch 10 loss_train 0.1468576192855835    rocauc 0.7500075910849628\n",
      "epoch 11 loss_train 0.1429845243692398    rocauc 0.7493948827839907\n",
      "epoch 12 loss_train 0.13971205055713654    rocauc 0.7486521569092862\n",
      "epoch 13 loss_train 0.13620367646217346    rocauc 0.7488540371159531\n",
      "epoch 14 loss_train 0.1422923058271408    rocauc 0.748368655423909\n",
      "epoch 15 loss_train 0.13401582837104797    rocauc 0.7501343578089981\n",
      "epoch 16 loss_train 0.1346486657857895    rocauc 0.749337767562426\n",
      "epoch 17 loss_train 0.13769245147705078    rocauc 0.7495989573822948\n",
      "epoch 18 loss_train 0.13268840312957764    rocauc 0.7489422818654144\n",
      "epoch 19 loss_train 0.1419791877269745    rocauc 0.7494954491136531\n",
      "epoch 20 loss_train 0.13676851987838745    rocauc 0.7487334449626903\n",
      "epoch 21 loss_train 0.14022855460643768    rocauc 0.7486343330350476\n",
      "epoch 22 loss_train 0.13158775866031647    rocauc 0.7474281842295573\n",
      "epoch 23 loss_train 0.12712597846984863    rocauc 0.7494881697081685\n",
      "epoch 24 loss_train 0.12708279490470886    rocauc 0.7486904432235468\n",
      "epoch 25 loss_train 0.12983374297618866    rocauc 0.7490429800133368\n",
      "epoch 26 loss_train 0.13408325612545013    rocauc 0.7488221023386596\n",
      "epoch 27 loss_train 0.12933331727981567    rocauc 0.7498440488700766\n",
      "epoch 28 loss_train 0.14386630058288574    rocauc 0.7481558331472414\n",
      "epoch 29 loss_train 0.1451391577720642    rocauc 0.7478305650064281\n"
     ]
    }
   ],
   "source": [
    "# Дообучение\n",
    "for i in range(30):  # ВАШ КОД ЗДЕСЬ\n",
    "    for X, y in train_dataloader:  # ВАШ КОД ЗДЕСЬ\n",
    "\n",
    "    # Реализуйте все шаги тренировочного цикла PyTorch\n",
    "    #\n",
    "    # ВАШ КОД ЗДЕСЬ\n",
    "    #\n",
    "        X_g = X.to(device)\n",
    "        y_g = y.to(device)\n",
    "        \n",
    "        pred = model(X_g)\n",
    "        loss = loss_fn(pred, y_g.unsqueeze(-1))\n",
    "        optimizer.zero_grad()\n",
    "        loss.backward()\n",
    "        optimizer.step()\n",
    "\n",
    "    loss_tr = loss_fn(pred, y_g.unsqueeze(-1))\n",
    "    loss_train.append(loss_tr.item())\n",
    "\n",
    "    with torch.no_grad():\n",
    "        pred = model(X_test_gpu).to('cpu').detach().numpy()\n",
    "        rocauc = roc_auc_score(test[target], pred)\n",
    "    # Конец эпохи: считаем функцию потерь на тестовой выборке, \n",
    "    # сохраняем в список, чтобы потом нарисовать график\n",
    "#         loss = loss_fn(\n",
    "#             model(X_test_tensor),\n",
    "#             y_test_tensor.unsqueeze(-1)\n",
    "#         ).item()\n",
    "#         loss_test.append(loss)\n",
    "    print(f'epoch {i} loss_train {loss_tr}    rocauc {rocauc}')"
   ]
  },
  {
   "cell_type": "code",
   "execution_count": 30,
   "id": "c3cfcc9b",
   "metadata": {},
   "outputs": [
    {
     "data": {
      "image/png": "[encoded data removed]",
      "text/plain": [
       "<Figure size 800x500 with 1 Axes>"
      ]
     },
     "metadata": {},
     "output_type": "display_data"
    }
   ],
   "source": [
    "cnt = len(loss_train)\n",
    "# step = np.arange(0, num_epochs)\n",
    "step = np.arange(0, cnt)\n",
    "\n",
    "fig, ax = plt.subplots(figsize=(8,5))\n",
    "\n",
    "# Рисуем зависимость ошибки от эпохи обучения\n",
    "plt.plot(step, np.array(loss_train))\n",
    "plt.plot(step, np.array(loss_train))\n",
    "\n",
    "plt.title(\"Loss\")\n",
    "plt.xlabel(\"Epochs\")\n",
    "plt.ylabel(\"Loss\")\n",
    "plt.show()"
   ]
  },
  {
   "cell_type": "code",
   "execution_count": null,
   "id": "0328b1f8",
   "metadata": {},
   "outputs": [],
   "source": []
  },
  {
   "cell_type": "code",
   "execution_count": null,
   "id": "8d38d9ca",
   "metadata": {},
   "outputs": [],
   "source": [
    "with torch.no_grad():\n",
    "    # Конец эпохи: считаем функцию потерь на тестовой выборке, \n",
    "    # сохраняем в список, чтобы потом нарисовать график\n",
    "        loss = loss_fn(\n",
    "            model(X_test_tensor),\n",
    "            y_test_tensor.unsqueeze(-1)\n",
    "        ).item()\n",
    "        loss_test.append(loss)\n",
    "        print(f'epoch {i} loss_train {loss_tr}    loss {loss}')"
   ]
  },
  {
   "cell_type": "code",
   "execution_count": null,
   "id": "40b369bd",
   "metadata": {},
   "outputs": [],
   "source": []
  },
  {
   "cell_type": "code",
   "execution_count": 72,
   "id": "0932df93",
   "metadata": {},
   "outputs": [],
   "source": [
    "pred = model(X_test_tensor.to(device)).to('cpu').detach().numpy()"
   ]
  },
  {
   "cell_type": "code",
   "execution_count": 73,
   "id": "946ad1fa",
   "metadata": {},
   "outputs": [
    {
     "data": {
      "text/plain": [
       "0.6507655996022356"
      ]
     },
     "execution_count": 73,
     "metadata": {},
     "output_type": "execute_result"
    }
   ],
   "source": [
    "roc_auc_score(test[target], pred)"
   ]
  },
  {
   "cell_type": "code",
   "execution_count": 31,
   "id": "8ac17141",
   "metadata": {},
   "outputs": [],
   "source": [
    "torch.cuda.empty_cache()"
   ]
  },
  {
   "cell_type": "code",
   "execution_count": 77,
   "id": "48ee0b8c",
   "metadata": {},
   "outputs": [
    {
     "data": {
      "text/plain": [
       "1.0"
      ]
     },
     "execution_count": 77,
     "metadata": {},
     "output_type": "execute_result"
    }
   ],
   "source": [
    "pred.max()"
   ]
  },
  {
   "cell_type": "code",
   "execution_count": null,
   "id": "d45d3a6a",
   "metadata": {},
   "outputs": [],
   "source": []
  },
  {
   "cell_type": "code",
   "execution_count": null,
   "id": "2e30d615",
   "metadata": {},
   "outputs": [],
   "source": []
  },
  {
   "cell_type": "code",
   "execution_count": null,
   "id": "b0f96f38",
   "metadata": {},
   "outputs": [],
   "source": []
  },
  {
   "cell_type": "code",
   "execution_count": null,
   "id": "874a79ef",
   "metadata": {},
   "outputs": [],
   "source": []
  },
  {
   "cell_type": "code",
   "execution_count": null,
   "id": "d971dd83",
   "metadata": {},
   "outputs": [],
   "source": []
  },
  {
   "cell_type": "code",
   "execution_count": null,
   "id": "5acdff88",
   "metadata": {},
   "outputs": [],
   "source": []
  },
  {
   "cell_type": "code",
   "execution_count": 10,
   "id": "af513d45",
   "metadata": {},
   "outputs": [],
   "source": [
    "class MyDataset(Dataset):\n",
    "    def __init__(self, X, y):\n",
    "        self.X = torch.from_numpy(X.astype(np.float32))\n",
    "        self.y = torch.from_numpy(y.astype(np.float32))\n",
    "        \n",
    "    def __getitem__(self, index):\n",
    "        return self.X[index], self.y[index]\n",
    "    \n",
    "    def __len__(self):\n",
    "        return self.X.shape[0]\n",
    "    \n",
    "#     def input_size(self):\n",
    "#         return self.X.shape[1]"
   ]
  },
  {
   "cell_type": "code",
   "execution_count": 38,
   "id": "039b885c",
   "metadata": {},
   "outputs": [],
   "source": [
    "class CreditNN(nn.Module):\n",
    "    def __init__(self, input_size=411, hidden_1_size=1000, out_size=1):\n",
    "        super(CreditNN, self).__init__()\n",
    "        self.to(device)\n",
    "        self.input_size = input_size\n",
    "        self.dense1 = nn.Linear(self.input_size, hidden_1_size)\n",
    "        self.relu = nn.ReLU()\n",
    "        self.dropout = nn.Dropout(0.5)\n",
    "        self.dense2 = nn.Linear(hidden_1_size, out_size)\n",
    "#         self.normalize = nn.BatchNorm1d(hidden_1_size)\n",
    "#         self.sigmoid = nn.Sigmoid()\n",
    "        self.softmax = nn.Softmax(dim=1)\n",
    "        self.to(device)\n",
    "    \n",
    "    def forward(self, x):\n",
    "        x = self.dense1(x)\n",
    "        x = self.relu(x)\n",
    "#         x = x.view(-1, self.dense1.out_features)\n",
    "#         x = self.normalize(x)\n",
    "#         x = self.dropout(x)\n",
    "        x = self.dense2(x)\n",
    "#         x = self.sigmoid(x)\n",
    "#         x = self.softmax(x)\n",
    "        return x\n",
    "    \n",
    "    def fit(self, data_loader, optimizer, criterion, epochs=10, verbose=True):\n",
    "        self.__init__(input_size=data_loader.dataset.X.shape[1])\n",
    "        print(self.input_size)\n",
    "        for epoch in range(epochs):\n",
    "            for x_batch, y_batch in data_loader:\n",
    "                y_batch = y_batch.to(device)\n",
    "                y_pred = self(x_batch.to(device))\n",
    "                loss = criterion(y_batch, y_pred[:, 0])\n",
    "                optimizer.zero_grad()\n",
    "                loss.backward()\n",
    "                optimizer.step()\n",
    "            if verbose: \n",
    "                print(f'Epoch #{epoch}: \\tloss: {loss.item():.5f}')\n",
    "                print(y_batch)\n",
    "                print(y_pred[:, 0])\n",
    "#                 print(loss.item())\n",
    "        print(f'Training loss: {loss.item():.4f}')\n",
    "        \n",
    "    def predict(self, X):\n",
    "        return self(torch.from_numpy(X.astype(np.float32)).to(device))"
   ]
  },
  {
   "cell_type": "code",
   "execution_count": null,
   "id": "6b532ff2",
   "metadata": {},
   "outputs": [],
   "source": []
  },
  {
   "cell_type": "code",
   "execution_count": 39,
   "id": "ab331ef2",
   "metadata": {},
   "outputs": [],
   "source": [
    "my_nn = CreditNN()"
   ]
  },
  {
   "cell_type": "code",
   "execution_count": null,
   "id": "05450c3f",
   "metadata": {},
   "outputs": [],
   "source": []
  },
  {
   "cell_type": "code",
   "execution_count": null,
   "id": "bc5a3d6d",
   "metadata": {},
   "outputs": [],
   "source": []
  },
  {
   "cell_type": "code",
   "execution_count": 40,
   "id": "3b98da88",
   "metadata": {},
   "outputs": [],
   "source": [
    "loss_fn = nn.MSELoss()\n",
    "# loss_fn = nn.BCELoss()\n",
    "# loss_fn = nn.CrossEntropyLoss()\n",
    "\n",
    "\n",
    "optimizer = torch.optim.Adam(my_nn.parameters(), lr=0.000001)"
   ]
  },
  {
   "cell_type": "code",
   "execution_count": 41,
   "id": "0fad9bfc",
   "metadata": {},
   "outputs": [
    {
     "data": {
      "text/plain": [
       "CreditNN(\n",
       "  (dense1): Linear(in_features=411, out_features=1000, bias=True)\n",
       "  (relu): ReLU()\n",
       "  (dropout): Dropout(p=0.5, inplace=False)\n",
       "  (dense2): Linear(in_features=1000, out_features=1, bias=True)\n",
       "  (softmax): Softmax(dim=1)\n",
       ")"
      ]
     },
     "execution_count": 41,
     "metadata": {},
     "output_type": "execute_result"
    }
   ],
   "source": [
    "my_nn.to(device)"
   ]
  },
  {
   "cell_type": "code",
   "execution_count": 19,
   "id": "42317297",
   "metadata": {},
   "outputs": [
    {
     "data": {
      "text/plain": [
       "(2100000,)"
      ]
     },
     "execution_count": 19,
     "metadata": {},
     "output_type": "execute_result"
    }
   ],
   "source": [
    "y.values.shape"
   ]
  },
  {
   "cell_type": "code",
   "execution_count": 20,
   "id": "7141f8e8",
   "metadata": {},
   "outputs": [],
   "source": [
    "train_data = MyDataset(X.values, y.values)"
   ]
  },
  {
   "cell_type": "code",
   "execution_count": 28,
   "id": "c8a251f1",
   "metadata": {},
   "outputs": [],
   "source": [
    "batch_size = 3_000\n",
    "\n",
    "train_dataloader = DataLoader(\n",
    "    train_data,\n",
    "    batch_size=batch_size,\n",
    "    shuffle=True\n",
    ")"
   ]
  },
  {
   "cell_type": "code",
   "execution_count": 22,
   "id": "a4715ac5",
   "metadata": {},
   "outputs": [
    {
     "data": {
      "text/plain": [
       "torch.Size([2100000, 411])"
      ]
     },
     "execution_count": 22,
     "metadata": {},
     "output_type": "execute_result"
    }
   ],
   "source": [
    "train_dataloader.dataset.X.shape"
   ]
  },
  {
   "cell_type": "code",
   "execution_count": 42,
   "id": "fbc1bc09",
   "metadata": {
    "scrolled": false
   },
   "outputs": [
    {
     "name": "stdout",
     "output_type": "stream",
     "text": [
      "411\n",
      "Epoch #0: \tloss: 116.39467\n",
      "tensor([0., 0., 1.,  ..., 0., 0., 0.], device='cuda:0')\n",
      "tensor([11.0980, 12.0988,  9.7547,  ..., 12.1003,  9.9975, 11.6913],\n",
      "       device='cuda:0', grad_fn=<SelectBackward0>)\n",
      "Epoch #1: \tloss: 116.26477\n",
      "tensor([0., 0., 0.,  ..., 0., 0., 0.], device='cuda:0')\n",
      "tensor([ 7.8907,  6.5455, 12.4232,  ..., 10.0564, 10.8875,  7.9546],\n",
      "       device='cuda:0', grad_fn=<SelectBackward0>)\n",
      "Epoch #2: \tloss: 117.20963\n",
      "tensor([0., 0., 0.,  ..., 0., 0., 0.], device='cuda:0')\n",
      "tensor([ 6.2683,  9.9263, 12.1005,  ...,  9.3983,  9.4393, 12.3862],\n",
      "       device='cuda:0', grad_fn=<SelectBackward0>)\n",
      "Epoch #3: \tloss: 117.73159\n",
      "tensor([0., 0., 0.,  ..., 0., 0., 0.], device='cuda:0')\n",
      "tensor([ 7.5290, 11.6397, 12.5696,  ..., 10.8295, 17.5697,  9.8097],\n",
      "       device='cuda:0', grad_fn=<SelectBackward0>)\n",
      "Epoch #4: \tloss: 117.52104\n",
      "tensor([0., 0., 0.,  ..., 0., 1., 0.], device='cuda:0')\n",
      "tensor([12.2983,  8.1309,  8.5450,  ...,  9.9426, 10.8708, 10.7213],\n",
      "       device='cuda:0', grad_fn=<SelectBackward0>)\n",
      "Epoch #5: \tloss: 116.22420\n",
      "tensor([0., 0., 0.,  ..., 0., 0., 0.], device='cuda:0')\n",
      "tensor([10.7470, 11.3275, 19.0195,  ...,  9.5132, 10.3796, 11.4225],\n",
      "       device='cuda:0', grad_fn=<SelectBackward0>)\n",
      "Epoch #6: \tloss: 116.03967\n",
      "tensor([0., 0., 0.,  ..., 0., 0., 0.], device='cuda:0')\n",
      "tensor([11.9706,  9.3158, 11.0113,  ..., 10.4632, 10.2728,  8.8581],\n",
      "       device='cuda:0', grad_fn=<SelectBackward0>)\n",
      "Epoch #7: \tloss: 116.54625\n",
      "tensor([0., 0., 0.,  ..., 0., 0., 0.], device='cuda:0')\n",
      "tensor([ 9.0696, 12.2570,  9.1941,  ..., 11.1210, 11.4142, 13.5936],\n",
      "       device='cuda:0', grad_fn=<SelectBackward0>)\n",
      "Epoch #8: \tloss: 116.81273\n",
      "tensor([0., 0., 0.,  ..., 0., 0., 0.], device='cuda:0')\n",
      "tensor([ 8.1283, 12.0026, 11.4625,  ..., 11.6358,  6.3572, 11.0242],\n",
      "       device='cuda:0', grad_fn=<SelectBackward0>)\n",
      "Epoch #9: \tloss: 115.20318\n",
      "tensor([0., 0., 0.,  ..., 0., 0., 0.], device='cuda:0')\n",
      "tensor([ 9.3472,  4.9260, 10.6744,  ...,  9.9595, 10.7688, 11.9896],\n",
      "       device='cuda:0', grad_fn=<SelectBackward0>)\n",
      "Training loss: 115.2032\n",
      "CPU times: total: 10min 51s\n",
      "Wall time: 10min 34s\n"
     ]
    }
   ],
   "source": [
    "%%time\n",
    "my_nn.fit(train_dataloader, optimizer, loss_fn)"
   ]
  },
  {
   "cell_type": "code",
   "execution_count": 43,
   "id": "471aa778",
   "metadata": {},
   "outputs": [],
   "source": [
    "lss_pred = my_nn(torch.from_numpy(test[features].values.astype(np.float32)).to(device))\n"
   ]
  },
  {
   "cell_type": "code",
   "execution_count": 44,
   "id": "e6c289d1",
   "metadata": {},
   "outputs": [],
   "source": [
    "pred = lss_pred.to('cpu').detach().numpy()"
   ]
  },
  {
   "cell_type": "code",
   "execution_count": null,
   "id": "17ac1e5d",
   "metadata": {},
   "outputs": [],
   "source": []
  },
  {
   "cell_type": "code",
   "execution_count": null,
   "id": "2783f765",
   "metadata": {},
   "outputs": [],
   "source": []
  },
  {
   "cell_type": "code",
   "execution_count": 45,
   "id": "373756ee",
   "metadata": {},
   "outputs": [
    {
     "data": {
      "text/plain": [
       "0.5356464384658775"
      ]
     },
     "execution_count": 45,
     "metadata": {},
     "output_type": "execute_result"
    }
   ],
   "source": [
    "roc_auc_score(test[target], pred)"
   ]
  },
  {
   "cell_type": "code",
   "execution_count": null,
   "id": "a1e8399c",
   "metadata": {},
   "outputs": [],
   "source": []
  },
  {
   "cell_type": "code",
   "execution_count": null,
   "id": "d8c63605",
   "metadata": {},
   "outputs": [],
   "source": [
    "from torch.utils.data import DataLoader\n",
    "\n",
    "batch_size = 64\n",
    "\n",
    "train_dataloader = DataLoader(\n",
    "    train_data,\n",
    "    batch_size=batch_size,\n",
    "    shuffle=True\n",
    ")"
   ]
  },
  {
   "cell_type": "code",
   "execution_count": null,
   "id": "8971d749",
   "metadata": {},
   "outputs": [],
   "source": [
    "import torch.nn as nn\n",
    "\n",
    "class MyNet(nn.Module):\n",
    "    def __init__(self, input_dim, hidden_dim, output_dim):\n",
    "        super().__init__()\n",
    "        \n",
    "        self.hidden = nn.Linear(input_dim, hidden_dim)\n",
    "        \n",
    "        self.f1 = nn.ReLU()\n",
    "        \n",
    "        self.output = nn.Linear(hidden_dim, output_dim)\n",
    "        \n",
    "        self.f2 = nn.Sigmoid()\n",
    "        \n",
    "    def forward(self, x):\n",
    "        x = self.f1(self.hidden(x))\n",
    "        x = self.f2(self.output(x))\n",
    "        \n",
    "        return x"
   ]
  },
  {
   "cell_type": "code",
   "execution_count": null,
   "id": "b34596c3",
   "metadata": {},
   "outputs": [],
   "source": [
    "my_net = MyNet(2, 16, 1)\n",
    "\n",
    "print(my_net)"
   ]
  },
  {
   "cell_type": "code",
   "execution_count": null,
   "id": "581eb040",
   "metadata": {},
   "outputs": [],
   "source": [
    "y_pred = my_net(torch.from_numpy(X_test.astype(np.float32)))"
   ]
  },
  {
   "cell_type": "code",
   "execution_count": null,
   "id": "73cca9f1",
   "metadata": {},
   "outputs": [],
   "source": [
    "loss_fn = nn.BCELoss()\n",
    "\n",
    "optimizer = torch.optim.SGD(my_net.parameters(), lr=0.1)"
   ]
  },
  {
   "cell_type": "code",
   "execution_count": null,
   "id": "4f4befde",
   "metadata": {},
   "outputs": [],
   "source": [
    "num_epochs = 50\n",
    "\n",
    "loss_values = []\n",
    "\n",
    "for epoch in range(num_epochs):\n",
    "    for X, y in train_dataloader:\n",
    "        \n",
    "        pred = my_net(X)\n",
    "        \n",
    "        loss = loss_fn(pred, y.unsqueeze(-1))\n",
    "        \n",
    "        optimizer.zero_grad()\n",
    "        \n",
    "        loss.backward()\n",
    "        \n",
    "        optimizer.step()\n",
    "        \n",
    "    loss = loss_fn(pred, y.unsqueeze(-1))\n",
    "    loss_values.append(loss.item())"
   ]
  },
  {
   "cell_type": "code",
   "execution_count": null,
   "id": "bad52083",
   "metadata": {},
   "outputs": [],
   "source": [
    "step = np.linspace(0, num_epochs)\n",
    "\n",
    "fig, ax = plt.subplots(figsize=(8,5))\n",
    "plt.plot(step, np.array(loss_values))\n",
    "plt.title('Loss')\n",
    "plt.xlabel('Epochs')\n",
    "plt.ylabel('Loss')\n",
    "plt.show()"
   ]
  },
  {
   "cell_type": "code",
   "execution_count": null,
   "id": "021aac04",
   "metadata": {},
   "outputs": [],
   "source": []
  },
  {
   "cell_type": "code",
   "execution_count": null,
   "id": "866c31f4",
   "metadata": {},
   "outputs": [],
   "source": []
  },
  {
   "cell_type": "code",
   "execution_count": null,
   "id": "5cf91b7e",
   "metadata": {},
   "outputs": [],
   "source": []
  },
  {
   "cell_type": "code",
   "execution_count": 80,
   "id": "0776c748",
   "metadata": {},
   "outputs": [
    {
     "name": "stdout",
     "output_type": "stream",
     "text": [
      "epoch 0 loss_train 0.59307461977005    rocauc 0.5631392618904505\n",
      "epoch 1 loss_train 0.3998393416404724    rocauc 0.5920715957311883\n",
      "epoch 2 loss_train 0.2785755395889282    rocauc 0.6711860498985128\n",
      "epoch 3 loss_train 0.19279980659484863    rocauc 0.6903045202897271\n",
      "epoch 4 loss_train 0.15606869757175446    rocauc 0.7113603221724513\n",
      "epoch 5 loss_train 0.1487884670495987    rocauc 0.720374700532411\n",
      "epoch 6 loss_train 0.1459091454744339    rocauc 0.7303886727048639\n",
      "epoch 7 loss_train 0.14826242625713348    rocauc 0.7301517125891628\n",
      "epoch 8 loss_train 0.13726936280727386    rocauc 0.7422040803103565\n",
      "epoch 9 loss_train 0.14441458880901337    rocauc 0.7448896232498196\n",
      "CPU times: total: 11min 44s\n",
      "Wall time: 11min 25s\n"
     ]
    }
   ],
   "source": [
    "%%time\n",
    "# Создайте объект класса, который реализует среднеквадратичную ошибку (MSE).\n",
    "# loss_fn = nn.MSELoss()  # ВАШ КОД ЗДЕСЬ\n",
    "# loss_fn = nn.BCELoss()\n",
    "loss_fn = nn.CrossEntropyLoss()\n",
    "\n",
    "X_test_gpu = X_test_tensor.to(device)\n",
    "\n",
    "\n",
    "# Создаём оптимизатор. Тут будем использовать вариацию стохастического \n",
    "# градиентного спуска Adam. Это адаптивный алгоритм, который выбирает\n",
    "# шаг изменения весов (learning rate) в зависимости от текущей ситуации. \n",
    "# Это очень эффективный алгоритм, который в большинстве случаев работает \n",
    "# лучше, чем обычный градиентный спуск с постоянным шагом. В этой задаче – \n",
    "# точно лучше. Если хотите убедиться, замените Adam на torch.optim.SDG\n",
    "optimizer = torch.optim.Adam(model.parameters(), lr=0.0001)\n",
    "\n",
    "# Делаем 100 эпох\n",
    "num_epochs = 10\n",
    "\n",
    "# Сюда будем сохранять значение функции потерь на тестовой выборке\n",
    "# после каждой эпохи обучения\n",
    "loss_test = []\n",
    "loss_train = []\n",
    "\n",
    "# Реализуйте тренировочный цикл\n",
    "for i in range(num_epochs):  # ВАШ КОД ЗДЕСЬ\n",
    "    for X, y in train_dataloader:  # ВАШ КОД ЗДЕСЬ\n",
    "\n",
    "    # Реализуйте все шаги тренировочного цикла PyTorch\n",
    "    #\n",
    "    # ВАШ КОД ЗДЕСЬ\n",
    "    #\n",
    "        X_g = X.to(device)\n",
    "        y_g = y.to(device)\n",
    "        \n",
    "        pred = model(X_g)\n",
    "        loss = loss_fn(pred, y_g.unsqueeze(-1))\n",
    "        optimizer.zero_grad()\n",
    "        loss.backward()\n",
    "        optimizer.step()\n",
    "\n",
    "    loss_tr = loss_fn(pred, y_g.unsqueeze(-1))\n",
    "    loss_train.append(loss_tr.item())\n",
    "\n",
    "    with torch.no_grad():\n",
    "        pred = model(X_test_gpu).to('cpu').detach().numpy()\n",
    "        rocauc = roc_auc_score(test[target], pred)\n",
    "    # Конец эпохи: считаем функцию потерь на тестовой выборке, \n",
    "    # сохраняем в список, чтобы потом нарисовать график\n",
    "#         loss = loss_fn(\n",
    "#             model(X_test_tensor),\n",
    "#             y_test_tensor.unsqueeze(-1)\n",
    "#         ).item()\n",
    "#         loss_test.append(loss)\n",
    "    print(f'epoch {i} loss_train {loss_tr}    rocauc {rocauc}')"
   ]
  },
  {
   "cell_type": "code",
   "execution_count": 16,
   "id": "747af21d",
   "metadata": {
    "scrolled": false
   },
   "outputs": [
    {
     "name": "stdout",
     "output_type": "stream",
     "text": [
      "epoch 0 loss_train -0.37944909930229187    rocauc 0.6827021592018724\n"
     ]
    },
    {
     "name": "stderr",
     "output_type": "stream",
     "text": [
      "C:\\Users\\Lenovo\\.conda\\envs\\tf-gpu\\lib\\site-packages\\torch\\nn\\functional.py:2949: UserWarning: reduction: 'mean' divides the total loss by both the batch size and the support size.'batchmean' divides only by the batch size, and aligns with the KL div math definition.'mean' will be changed to behave the same as 'batchmean' in the next major release.\n",
      "  warnings.warn(\n"
     ]
    },
    {
     "name": "stdout",
     "output_type": "stream",
     "text": [
      "epoch 1 loss_train -0.38222846388816833    rocauc 0.7164108036940022\n"
     ]
    },
    {
     "name": "stderr",
     "output_type": "stream",
     "text": [
      "C:\\Users\\Lenovo\\.conda\\envs\\tf-gpu\\lib\\site-packages\\torch\\nn\\functional.py:2949: UserWarning: reduction: 'mean' divides the total loss by both the batch size and the support size.'batchmean' divides only by the batch size, and aligns with the KL div math definition.'mean' will be changed to behave the same as 'batchmean' in the next major release.\n",
      "  warnings.warn(\n"
     ]
    },
    {
     "name": "stdout",
     "output_type": "stream",
     "text": [
      "epoch 2 loss_train -0.3840351998806    rocauc 0.7286779110992091\n"
     ]
    },
    {
     "name": "stderr",
     "output_type": "stream",
     "text": [
      "C:\\Users\\Lenovo\\.conda\\envs\\tf-gpu\\lib\\site-packages\\torch\\nn\\functional.py:2949: UserWarning: reduction: 'mean' divides the total loss by both the batch size and the support size.'batchmean' divides only by the batch size, and aligns with the KL div math definition.'mean' will be changed to behave the same as 'batchmean' in the next major release.\n",
      "  warnings.warn(\n"
     ]
    },
    {
     "name": "stdout",
     "output_type": "stream",
     "text": [
      "epoch 3 loss_train -0.37969309091567993    rocauc 0.7301265090027421\n"
     ]
    },
    {
     "name": "stderr",
     "output_type": "stream",
     "text": [
      "C:\\Users\\Lenovo\\.conda\\envs\\tf-gpu\\lib\\site-packages\\torch\\nn\\functional.py:2949: UserWarning: reduction: 'mean' divides the total loss by both the batch size and the support size.'batchmean' divides only by the batch size, and aligns with the KL div math definition.'mean' will be changed to behave the same as 'batchmean' in the next major release.\n",
      "  warnings.warn(\n"
     ]
    },
    {
     "name": "stdout",
     "output_type": "stream",
     "text": [
      "epoch 4 loss_train -0.3792288601398468    rocauc 0.735871961987474\n"
     ]
    },
    {
     "name": "stderr",
     "output_type": "stream",
     "text": [
      "C:\\Users\\Lenovo\\.conda\\envs\\tf-gpu\\lib\\site-packages\\torch\\nn\\functional.py:2949: UserWarning: reduction: 'mean' divides the total loss by both the batch size and the support size.'batchmean' divides only by the batch size, and aligns with the KL div math definition.'mean' will be changed to behave the same as 'batchmean' in the next major release.\n",
      "  warnings.warn(\n"
     ]
    },
    {
     "name": "stdout",
     "output_type": "stream",
     "text": [
      "epoch 5 loss_train -0.38075873255729675    rocauc 0.7385811564200825\n"
     ]
    },
    {
     "name": "stderr",
     "output_type": "stream",
     "text": [
      "C:\\Users\\Lenovo\\.conda\\envs\\tf-gpu\\lib\\site-packages\\torch\\nn\\functional.py:2949: UserWarning: reduction: 'mean' divides the total loss by both the batch size and the support size.'batchmean' divides only by the batch size, and aligns with the KL div math definition.'mean' will be changed to behave the same as 'batchmean' in the next major release.\n",
      "  warnings.warn(\n"
     ]
    },
    {
     "name": "stdout",
     "output_type": "stream",
     "text": [
      "epoch 6 loss_train -0.38166189193725586    rocauc 0.7361765148562248\n"
     ]
    },
    {
     "name": "stderr",
     "output_type": "stream",
     "text": [
      "C:\\Users\\Lenovo\\.conda\\envs\\tf-gpu\\lib\\site-packages\\torch\\nn\\functional.py:2949: UserWarning: reduction: 'mean' divides the total loss by both the batch size and the support size.'batchmean' divides only by the batch size, and aligns with the KL div math definition.'mean' will be changed to behave the same as 'batchmean' in the next major release.\n",
      "  warnings.warn(\n"
     ]
    },
    {
     "name": "stdout",
     "output_type": "stream",
     "text": [
      "epoch 7 loss_train -0.3820490539073944    rocauc 0.7439058370946375\n"
     ]
    },
    {
     "name": "stderr",
     "output_type": "stream",
     "text": [
      "C:\\Users\\Lenovo\\.conda\\envs\\tf-gpu\\lib\\site-packages\\torch\\nn\\functional.py:2949: UserWarning: reduction: 'mean' divides the total loss by both the batch size and the support size.'batchmean' divides only by the batch size, and aligns with the KL div math definition.'mean' will be changed to behave the same as 'batchmean' in the next major release.\n",
      "  warnings.warn(\n"
     ]
    },
    {
     "name": "stdout",
     "output_type": "stream",
     "text": [
      "epoch 8 loss_train -0.38144537806510925    rocauc 0.7420210612260202\n"
     ]
    },
    {
     "name": "stderr",
     "output_type": "stream",
     "text": [
      "C:\\Users\\Lenovo\\.conda\\envs\\tf-gpu\\lib\\site-packages\\torch\\nn\\functional.py:2949: UserWarning: reduction: 'mean' divides the total loss by both the batch size and the support size.'batchmean' divides only by the batch size, and aligns with the KL div math definition.'mean' will be changed to behave the same as 'batchmean' in the next major release.\n",
      "  warnings.warn(\n"
     ]
    },
    {
     "name": "stdout",
     "output_type": "stream",
     "text": [
      "epoch 9 loss_train -0.3821074068546295    rocauc 0.7411221680506287\n",
      "CPU times: total: 11min 47s\n",
      "Wall time: 11min 28s\n"
     ]
    }
   ],
   "source": [
    "%%time\n",
    "# Создайте объект класса, который реализует среднеквадратичную ошибку (MSE).\n",
    "# loss_fn = nn.MSELoss()  # ВАШ КОД ЗДЕСЬ\n",
    "# loss_fn = nn.BCELoss()\n",
    "loss_fn = nn.CrossEntropyLoss()\n",
    "loss_fn = nn.KLDivLoss()\n",
    "\n",
    "X_test_gpu = X_test_tensor.to(device)\n",
    "\n",
    "\n",
    "# Создаём оптимизатор. Тут будем использовать вариацию стохастического \n",
    "# градиентного спуска Adam. Это адаптивный алгоритм, который выбирает\n",
    "# шаг изменения весов (learning rate) в зависимости от текущей ситуации. \n",
    "# Это очень эффективный алгоритм, который в большинстве случаев работает \n",
    "# лучше, чем обычный градиентный спуск с постоянным шагом. В этой задаче – \n",
    "# точно лучше. Если хотите убедиться, замените Adam на torch.optim.SDG\n",
    "optimizer = torch.optim.Adam(model.parameters(), lr=0.0001)\n",
    "\n",
    "# Делаем 100 эпох\n",
    "num_epochs = 10\n",
    "\n",
    "# Сюда будем сохранять значение функции потерь на тестовой выборке\n",
    "# после каждой эпохи обучения\n",
    "loss_test = []\n",
    "loss_train = []\n",
    "\n",
    "# Реализуйте тренировочный цикл\n",
    "for i in range(num_epochs):  # ВАШ КОД ЗДЕСЬ\n",
    "    for X, y in train_dataloader:  # ВАШ КОД ЗДЕСЬ\n",
    "\n",
    "    # Реализуйте все шаги тренировочного цикла PyTorch\n",
    "    #\n",
    "    # ВАШ КОД ЗДЕСЬ\n",
    "    #\n",
    "        X_g = X.to(device)\n",
    "        y_g = y.to(device)\n",
    "        \n",
    "        pred = model(X_g)\n",
    "        loss = loss_fn(y_g.unsqueeze(-1), pred)\n",
    "        optimizer.zero_grad()\n",
    "        loss.backward()\n",
    "        optimizer.step()\n",
    "\n",
    "    loss_tr = loss_fn(y_g.unsqueeze(-1), pred)\n",
    "    loss_train.append(loss_tr.item())\n",
    "\n",
    "    with torch.no_grad():\n",
    "        pred = model(X_test_gpu).to('cpu').detach().numpy()\n",
    "        rocauc = roc_auc_score(test[target], pred)\n",
    "        loss_test.append(rocauc)\n",
    "    # Конец эпохи: считаем функцию потерь на тестовой выборке, \n",
    "    # сохраняем в список, чтобы потом нарисовать график\n",
    "#         loss = loss_fn(\n",
    "#             model(X_test_tensor),\n",
    "#             y_test_tensor.unsqueeze(-1)\n",
    "#         ).item()\n",
    "#         loss_test.append(loss)\n",
    "    print(f'epoch {i} loss_train {loss_tr}    rocauc {rocauc}')"
   ]
  },
  {
   "cell_type": "code",
   "execution_count": 14,
   "id": "677e420d",
   "metadata": {
    "scrolled": false
   },
   "outputs": [
    {
     "name": "stdout",
     "output_type": "stream",
     "text": [
      "epoch 0 loss_train 0.08613904565572739    rocauc 0.751999714997233\n",
      "epoch 1 loss_train 0.13183069229125977    rocauc 0.7566377822041987\n",
      "epoch 2 loss_train 0.1615244299173355    rocauc 0.7597330150879396\n",
      "epoch 3 loss_train 0.1339513063430786    rocauc 0.760743667691282\n",
      "epoch 4 loss_train 0.1613963395357132    rocauc 0.7618317727937988\n",
      "epoch 5 loss_train 0.11829637736082077    rocauc 0.7617187928023512\n",
      "epoch 6 loss_train 0.16194510459899902    rocauc 0.7617747471466019\n",
      "epoch 7 loss_train 0.1757342666387558    rocauc 0.7588868788342622\n",
      "epoch 8 loss_train 0.13757367432117462    rocauc 0.7594788017693348\n",
      "epoch 9 loss_train 0.13235490024089813    rocauc 0.7573768005730903\n",
      "epoch 10 loss_train 0.13063859939575195    rocauc 0.7583590725498827\n",
      "epoch 11 loss_train 0.11811397224664688    rocauc 0.7562705914915506\n",
      "epoch 12 loss_train 0.14084723591804504    rocauc 0.7534233498087161\n",
      "epoch 13 loss_train 0.11459673196077347    rocauc 0.7512250569426394\n",
      "epoch 14 loss_train 0.13819751143455505    rocauc 0.747392307043714\n",
      "epoch 15 loss_train 0.1532078981399536    rocauc 0.7466020843514347\n",
      "epoch 16 loss_train 0.07904097437858582    rocauc 0.7449301802544641\n",
      "epoch 17 loss_train 0.098113514482975    rocauc 0.7431308172613291\n",
      "epoch 18 loss_train 0.10351602733135223    rocauc 0.7414518395310021\n",
      "epoch 19 loss_train 0.10876497626304626    rocauc 0.7425702066103945\n",
      "epoch 20 loss_train 0.10943201184272766    rocauc 0.734988658720346\n",
      "epoch 21 loss_train 0.19533613324165344    rocauc 0.7361800408323482\n",
      "epoch 22 loss_train 0.15658040344715118    rocauc 0.7345867427345166\n",
      "epoch 23 loss_train 0.07081831991672516    rocauc 0.7341830812209533\n",
      "epoch 24 loss_train 0.10303923487663269    rocauc 0.730495339056192\n",
      "epoch 25 loss_train 0.1420980840921402    rocauc 0.735365798753487\n",
      "epoch 26 loss_train 0.14288753271102905    rocauc 0.7258351122400855\n",
      "epoch 27 loss_train 0.119383305311203    rocauc 0.7266035591979108\n",
      "epoch 28 loss_train 0.10144734382629395    rocauc 0.7249070663597625\n",
      "epoch 29 loss_train 0.1360136717557907    rocauc 0.7200551928928599\n",
      "epoch 30 loss_train 0.07933534681797028    rocauc 0.7229901417346482\n",
      "epoch 31 loss_train 0.1521400511264801    rocauc 0.7186592544542729\n",
      "epoch 32 loss_train 0.13353529572486877    rocauc 0.7184331140239402\n",
      "epoch 33 loss_train 0.09027200937271118    rocauc 0.7206725034151842\n",
      "epoch 34 loss_train 0.13185812532901764    rocauc 0.7187373312503555\n",
      "epoch 35 loss_train 0.12232799828052521    rocauc 0.7123409886107706\n",
      "epoch 36 loss_train 0.13743554055690765    rocauc 0.7112817735687289\n",
      "epoch 37 loss_train 0.11407198011875153    rocauc 0.7124898925593737\n",
      "epoch 38 loss_train 0.07214104384183884    rocauc 0.7126528547234099\n",
      "epoch 39 loss_train 0.09668606519699097    rocauc 0.7138356635078014\n",
      "epoch 40 loss_train 0.09736359119415283    rocauc 0.7067531451534131\n",
      "epoch 41 loss_train 0.12265230715274811    rocauc 0.7069212183594507\n",
      "epoch 42 loss_train 0.17095398902893066    rocauc 0.7002840412151357\n",
      "epoch 43 loss_train 0.10922632366418839    rocauc 0.7097930927228826\n",
      "epoch 44 loss_train 0.07641468942165375    rocauc 0.7065496861940035\n",
      "epoch 45 loss_train 0.08847343921661377    rocauc 0.7033497950048617\n",
      "epoch 46 loss_train 0.10589095205068588    rocauc 0.6994663535894914\n",
      "epoch 47 loss_train 0.1116926372051239    rocauc 0.7004023169889539\n",
      "epoch 48 loss_train 0.12799547612667084    rocauc 0.6977105794931366\n",
      "epoch 49 loss_train 0.14615647494792938    rocauc 0.697413107112003\n",
      "CPU times: total: 59min 50s\n",
      "Wall time: 58min 20s\n"
     ]
    }
   ],
   "source": [
    "%%time\n",
    "# Создайте объект класса, который реализует среднеквадратичную ошибку (MSE).\n",
    "# loss_fn = nn.MSELoss()  # ВАШ КОД ЗДЕСЬ\n",
    "loss_fn = nn.BCELoss()\n",
    "# loss_fn = nn.CrossEntropyLoss()\n",
    "\n",
    "X_test_gpu = X_test_tensor.to(device)\n",
    "\n",
    "\n",
    "# Создаём оптимизатор. Тут будем использовать вариацию стохастического \n",
    "# градиентного спуска Adam. Это адаптивный алгоритм, который выбирает\n",
    "# шаг изменения весов (learning rate) в зависимости от текущей ситуации. \n",
    "# Это очень эффективный алгоритм, который в большинстве случаев работает \n",
    "# лучше, чем обычный градиентный спуск с постоянным шагом. В этой задаче – \n",
    "# точно лучше. Если хотите убедиться, замените Adam на torch.optim.SDG\n",
    "optimizer = torch.optim.Adam(model.parameters(), lr=0.0001)\n",
    "\n",
    "# Делаем 100 эпох\n",
    "num_epochs = 50\n",
    "\n",
    "# Сюда будем сохранять значение функции потерь на тестовой выборке\n",
    "# после каждой эпохи обучения\n",
    "loss_test = []\n",
    "loss_train = []\n",
    "\n",
    "# Реализуйте тренировочный цикл\n",
    "for i in range(num_epochs):  # ВАШ КОД ЗДЕСЬ\n",
    "    for X, y in train_dataloader:  # ВАШ КОД ЗДЕСЬ\n",
    "\n",
    "    # Реализуйте все шаги тренировочного цикла PyTorch\n",
    "    #\n",
    "    # ВАШ КОД ЗДЕСЬ\n",
    "    #\n",
    "        X_g = X.to(device)\n",
    "        y_g = y.to(device)\n",
    "        \n",
    "        pred = model(X_g)\n",
    "        loss = loss_fn(pred, y_g.unsqueeze(-1))\n",
    "        optimizer.zero_grad()\n",
    "        loss.backward()\n",
    "        optimizer.step()\n",
    "\n",
    "    loss_tr = loss_fn(pred, y_g.unsqueeze(-1))\n",
    "    loss_train.append(loss_tr.item())\n",
    "\n",
    "    with torch.no_grad():\n",
    "        pred = model(X_test_gpu).to('cpu').detach().numpy()\n",
    "        rocauc = roc_auc_score(test[target], pred)\n",
    "        loss_test.append(rocauc)\n",
    "    # Конец эпохи: считаем функцию потерь на тестовой выборке, \n",
    "    # сохраняем в список, чтобы потом нарисовать график\n",
    "#         loss = loss_fn(\n",
    "#             model(X_test_tensor),\n",
    "#             y_test_tensor.unsqueeze(-1)\n",
    "#         ).item()\n",
    "#         loss_test.append(loss)\n",
    "    print(f'epoch {i} loss_train {loss_tr}    rocauc {rocauc}')"
   ]
  },
  {
   "cell_type": "code",
   "execution_count": null,
   "id": "91f7bc7a",
   "metadata": {},
   "outputs": [],
   "source": []
  }
 ],
 "metadata": {
  "kernelspec": {
   "display_name": "Python 3 (ipykernel)",
   "language": "python",
   "name": "python3"
  },
  "language_info": {
   "codemirror_mode": {
    "name": "ipython",
    "version": 3
   },
   "file_extension": ".py",
   "mimetype": "text/x-python",
   "name": "python",
   "nbconvert_exporter": "python",
   "pygments_lexer": "ipython3",
   "version": "3.9.18"
  }
 },
 "nbformat": 4,
 "nbformat_minor": 5
}
