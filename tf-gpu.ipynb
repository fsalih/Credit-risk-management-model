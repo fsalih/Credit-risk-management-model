{
 "cells": [
  {
   "cell_type": "code",
   "execution_count": 1,
   "id": "30605f4e",
   "metadata": {},
   "outputs": [],
   "source": [
    "# !conda install pytorch torchvision torchaudio pytorch-cuda=11.8 -c pytorch -c nvidia\n"
   ]
  },
  {
   "cell_type": "code",
   "execution_count": 1,
   "id": "61cde914",
   "metadata": {
    "tags": []
   },
   "outputs": [],
   "source": [
    "# !pip install matplotlib"
   ]
  },
  {
   "cell_type": "code",
   "execution_count": 1,
   "id": "cdb4c623",
   "metadata": {},
   "outputs": [],
   "source": [
    "from sklearn.metrics import roc_auc_score"
   ]
  },
  {
   "cell_type": "code",
   "execution_count": 2,
   "id": "02b055ec",
   "metadata": {
    "tags": []
   },
   "outputs": [],
   "source": [
    "import torch"
   ]
  },
  {
   "cell_type": "code",
   "execution_count": 3,
   "id": "1e191c5d",
   "metadata": {
    "tags": []
   },
   "outputs": [],
   "source": [
    "import torch.nn as nn"
   ]
  },
  {
   "cell_type": "code",
   "execution_count": 4,
   "id": "4b610049",
   "metadata": {
    "tags": []
   },
   "outputs": [
    {
     "data": {
      "text/plain": [
       "True"
      ]
     },
     "execution_count": 4,
     "metadata": {},
     "output_type": "execute_result"
    }
   ],
   "source": [
    "torch.cuda.is_available()"
   ]
  },
  {
   "cell_type": "code",
   "execution_count": 5,
   "id": "3e3eabb5",
   "metadata": {
    "tags": []
   },
   "outputs": [
    {
     "name": "stdout",
     "output_type": "stream",
     "text": [
      "tensor([[0.7209, 0.9404, 0.5645],\n",
      "        [0.3859, 0.4065, 0.2243],\n",
      "        [0.7746, 0.4664, 0.1597],\n",
      "        [0.1633, 0.9118, 0.7845],\n",
      "        [0.3802, 0.6604, 0.3582]])\n"
     ]
    }
   ],
   "source": [
    "x = torch.rand(5, 3)\n",
    "print(x)"
   ]
  },
  {
   "cell_type": "code",
   "execution_count": 6,
   "id": "6ca76079",
   "metadata": {
    "tags": []
   },
   "outputs": [],
   "source": [
    "import pandas as pd"
   ]
  },
  {
   "cell_type": "code",
   "execution_count": 7,
   "id": "5a1944bd",
   "metadata": {
    "tags": []
   },
   "outputs": [],
   "source": [
    "import numpy as np\n",
    "\n",
    "import torch\n",
    "from torch import nn\n",
    "# from torch.optim as optim\n",
    "from torch.utils.data import Dataset\n",
    "from torch.utils.data import DataLoader\n",
    "\n",
    "from sklearn.model_selection import train_test_split\n",
    "from sklearn.datasets import fetch_california_housing\n"
   ]
  },
  {
   "cell_type": "code",
   "execution_count": 8,
   "id": "96823dcc",
   "metadata": {
    "tags": []
   },
   "outputs": [],
   "source": [
    "import matplotlib.pyplot as plt"
   ]
  },
  {
   "cell_type": "code",
   "execution_count": 9,
   "id": "bbcb5de0",
   "metadata": {},
   "outputs": [
    {
     "name": "stdout",
     "output_type": "stream",
     "text": [
      "cuda:0\n"
     ]
    }
   ],
   "source": [
    "device = torch.device('cuda:0' if torch.cuda.is_available() else 'cpu')\n",
    "print(device)"
   ]
  },
  {
   "cell_type": "code",
   "execution_count": null,
   "id": "d3f104f4",
   "metadata": {},
   "outputs": [],
   "source": []
  },
  {
   "cell_type": "code",
   "execution_count": 10,
   "id": "af513d45",
   "metadata": {},
   "outputs": [],
   "source": [
    "class MyDataset(Dataset):\n",
    "    def __init__(self, X, y):\n",
    "        self.X = torch.from_numpy(X.astype(np.float32))\n",
    "        self.y = torch.from_numpy(y.astype(np.float32))\n",
    "        \n",
    "    def __getitem__(self, index):\n",
    "        return self.X[index], self.y[index]\n",
    "    \n",
    "    def __len__(self):\n",
    "        return self.X.shape[0]\n",
    "    \n",
    "#     def input_size(self):\n",
    "#         return self.X.shape[1]"
   ]
  },
  {
   "cell_type": "code",
   "execution_count": 38,
   "id": "6da5c5a4",
   "metadata": {},
   "outputs": [],
   "source": [
    "class CreditNN(nn.Module):\n",
    "    def __init__(self, input_size=411, hidden_1_size=1000, out_size=1):\n",
    "        super(CreditNN, self).__init__()\n",
    "        self.to(device)\n",
    "        self.input_size = input_size\n",
    "        self.dense1 = nn.Linear(self.input_size, hidden_1_size)\n",
    "        self.relu = nn.ReLU()\n",
    "        self.dropout = nn.Dropout(0.5)\n",
    "        self.dense2 = nn.Linear(hidden_1_size, out_size)\n",
    "#         self.normalize = nn.BatchNorm1d(hidden_1_size)\n",
    "#         self.sigmoid = nn.Sigmoid()\n",
    "        self.softmax = nn.Softmax(dim=1)\n",
    "        self.to(device)\n",
    "    \n",
    "    def forward(self, x):\n",
    "        x = self.dense1(x)\n",
    "        x = self.relu(x)\n",
    "#         x = x.view(-1, self.dense1.out_features)\n",
    "#         x = self.normalize(x)\n",
    "#         x = self.dropout(x)\n",
    "        x = self.dense2(x)\n",
    "#         x = self.sigmoid(x)\n",
    "#         x = self.softmax(x)\n",
    "        return x\n",
    "    \n",
    "    def fit(self, data_loader, optimizer, criterion, epochs=10, verbose=True):\n",
    "        self.__init__(input_size=data_loader.dataset.X.shape[1])\n",
    "        print(self.input_size)\n",
    "        for epoch in range(epochs):\n",
    "            for x_batch, y_batch in data_loader:\n",
    "                y_batch = y_batch.to(device)\n",
    "                y_pred = self(x_batch.to(device))\n",
    "                loss = criterion(y_batch, y_pred[:, 0])\n",
    "                optimizer.zero_grad()\n",
    "                loss.backward()\n",
    "                optimizer.step()\n",
    "            if verbose: \n",
    "                print(f'Epoch #{epoch}: \\tloss: {loss.item():.5f}')\n",
    "                print(y_batch)\n",
    "                print(y_pred[:, 0])\n",
    "#                 print(loss.item())\n",
    "        print(f'Training loss: {loss.item():.4f}')\n",
    "        \n",
    "    def predict(self, X):\n",
    "        return self(torch.from_numpy(X.astype(np.float32)).to(device))"
   ]
  },
  {
   "cell_type": "code",
   "execution_count": null,
   "id": "ed132235",
   "metadata": {},
   "outputs": [],
   "source": []
  },
  {
   "cell_type": "code",
   "execution_count": 39,
   "id": "27fb265b",
   "metadata": {},
   "outputs": [],
   "source": [
    "my_nn = CreditNN()"
   ]
  },
  {
   "cell_type": "code",
   "execution_count": null,
   "id": "e19ebd7d",
   "metadata": {},
   "outputs": [],
   "source": []
  },
  {
   "cell_type": "code",
   "execution_count": 13,
   "id": "258ff60b",
   "metadata": {},
   "outputs": [],
   "source": [
    "train = pd.read_pickle('clean-train-5.pkl')\n",
    "test = pd.read_pickle('clean-test-5.pkl')"
   ]
  },
  {
   "cell_type": "code",
   "execution_count": 14,
   "id": "f58da227",
   "metadata": {},
   "outputs": [],
   "source": [
    "target = 'flag'\n",
    "features = train.drop(columns=target).columns.tolist()"
   ]
  },
  {
   "cell_type": "code",
   "execution_count": 15,
   "id": "b5236098",
   "metadata": {},
   "outputs": [],
   "source": [
    "for col in train.columns:\n",
    "    if train[col].dtype == bool:\n",
    "        train[col] = train[col].astype(np.int8)\n",
    "        test[col] = test[col].astype(np.int8)"
   ]
  },
  {
   "cell_type": "code",
   "execution_count": 16,
   "id": "63c116bf",
   "metadata": {},
   "outputs": [],
   "source": [
    "X = train[features]\n",
    "y = train[target]"
   ]
  },
  {
   "cell_type": "code",
   "execution_count": null,
   "id": "5ba53ff9",
   "metadata": {},
   "outputs": [],
   "source": []
  },
  {
   "cell_type": "code",
   "execution_count": 40,
   "id": "1e24c10f",
   "metadata": {},
   "outputs": [],
   "source": [
    "loss_fn = nn.MSELoss()\n",
    "# loss_fn = nn.BCELoss()\n",
    "# loss_fn = nn.CrossEntropyLoss()\n",
    "\n",
    "\n",
    "optimizer = torch.optim.Adam(my_nn.parameters(), lr=0.000001)"
   ]
  },
  {
   "cell_type": "code",
   "execution_count": 41,
   "id": "ca448608",
   "metadata": {},
   "outputs": [
    {
     "data": {
      "text/plain": [
       "CreditNN(\n",
       "  (dense1): Linear(in_features=411, out_features=1000, bias=True)\n",
       "  (relu): ReLU()\n",
       "  (dropout): Dropout(p=0.5, inplace=False)\n",
       "  (dense2): Linear(in_features=1000, out_features=1, bias=True)\n",
       "  (softmax): Softmax(dim=1)\n",
       ")"
      ]
     },
     "execution_count": 41,
     "metadata": {},
     "output_type": "execute_result"
    }
   ],
   "source": [
    "my_nn.to(device)"
   ]
  },
  {
   "cell_type": "code",
   "execution_count": 19,
   "id": "7ca25bb5",
   "metadata": {},
   "outputs": [
    {
     "data": {
      "text/plain": [
       "(2100000,)"
      ]
     },
     "execution_count": 19,
     "metadata": {},
     "output_type": "execute_result"
    }
   ],
   "source": [
    "y.values.shape"
   ]
  },
  {
   "cell_type": "code",
   "execution_count": 20,
   "id": "fbf6eec6",
   "metadata": {},
   "outputs": [],
   "source": [
    "train_data = MyDataset(X.values, y.values)"
   ]
  },
  {
   "cell_type": "code",
   "execution_count": 28,
   "id": "f402781e",
   "metadata": {},
   "outputs": [],
   "source": [
    "batch_size = 3_000\n",
    "\n",
    "train_dataloader = DataLoader(\n",
    "    train_data,\n",
    "    batch_size=batch_size,\n",
    "    shuffle=True\n",
    ")"
   ]
  },
  {
   "cell_type": "code",
   "execution_count": 22,
   "id": "22080802",
   "metadata": {},
   "outputs": [
    {
     "data": {
      "text/plain": [
       "torch.Size([2100000, 411])"
      ]
     },
     "execution_count": 22,
     "metadata": {},
     "output_type": "execute_result"
    }
   ],
   "source": [
    "train_dataloader.dataset.X.shape"
   ]
  },
  {
   "cell_type": "code",
   "execution_count": 42,
   "id": "95462b0f",
   "metadata": {
    "scrolled": false
   },
   "outputs": [
    {
     "name": "stdout",
     "output_type": "stream",
     "text": [
      "411\n",
      "Epoch #0: \tloss: 116.39467\n",
      "tensor([0., 0., 1.,  ..., 0., 0., 0.], device='cuda:0')\n",
      "tensor([11.0980, 12.0988,  9.7547,  ..., 12.1003,  9.9975, 11.6913],\n",
      "       device='cuda:0', grad_fn=<SelectBackward0>)\n",
      "Epoch #1: \tloss: 116.26477\n",
      "tensor([0., 0., 0.,  ..., 0., 0., 0.], device='cuda:0')\n",
      "tensor([ 7.8907,  6.5455, 12.4232,  ..., 10.0564, 10.8875,  7.9546],\n",
      "       device='cuda:0', grad_fn=<SelectBackward0>)\n",
      "Epoch #2: \tloss: 117.20963\n",
      "tensor([0., 0., 0.,  ..., 0., 0., 0.], device='cuda:0')\n",
      "tensor([ 6.2683,  9.9263, 12.1005,  ...,  9.3983,  9.4393, 12.3862],\n",
      "       device='cuda:0', grad_fn=<SelectBackward0>)\n",
      "Epoch #3: \tloss: 117.73159\n",
      "tensor([0., 0., 0.,  ..., 0., 0., 0.], device='cuda:0')\n",
      "tensor([ 7.5290, 11.6397, 12.5696,  ..., 10.8295, 17.5697,  9.8097],\n",
      "       device='cuda:0', grad_fn=<SelectBackward0>)\n",
      "Epoch #4: \tloss: 117.52104\n",
      "tensor([0., 0., 0.,  ..., 0., 1., 0.], device='cuda:0')\n",
      "tensor([12.2983,  8.1309,  8.5450,  ...,  9.9426, 10.8708, 10.7213],\n",
      "       device='cuda:0', grad_fn=<SelectBackward0>)\n",
      "Epoch #5: \tloss: 116.22420\n",
      "tensor([0., 0., 0.,  ..., 0., 0., 0.], device='cuda:0')\n",
      "tensor([10.7470, 11.3275, 19.0195,  ...,  9.5132, 10.3796, 11.4225],\n",
      "       device='cuda:0', grad_fn=<SelectBackward0>)\n",
      "Epoch #6: \tloss: 116.03967\n",
      "tensor([0., 0., 0.,  ..., 0., 0., 0.], device='cuda:0')\n",
      "tensor([11.9706,  9.3158, 11.0113,  ..., 10.4632, 10.2728,  8.8581],\n",
      "       device='cuda:0', grad_fn=<SelectBackward0>)\n",
      "Epoch #7: \tloss: 116.54625\n",
      "tensor([0., 0., 0.,  ..., 0., 0., 0.], device='cuda:0')\n",
      "tensor([ 9.0696, 12.2570,  9.1941,  ..., 11.1210, 11.4142, 13.5936],\n",
      "       device='cuda:0', grad_fn=<SelectBackward0>)\n",
      "Epoch #8: \tloss: 116.81273\n",
      "tensor([0., 0., 0.,  ..., 0., 0., 0.], device='cuda:0')\n",
      "tensor([ 8.1283, 12.0026, 11.4625,  ..., 11.6358,  6.3572, 11.0242],\n",
      "       device='cuda:0', grad_fn=<SelectBackward0>)\n",
      "Epoch #9: \tloss: 115.20318\n",
      "tensor([0., 0., 0.,  ..., 0., 0., 0.], device='cuda:0')\n",
      "tensor([ 9.3472,  4.9260, 10.6744,  ...,  9.9595, 10.7688, 11.9896],\n",
      "       device='cuda:0', grad_fn=<SelectBackward0>)\n",
      "Training loss: 115.2032\n",
      "CPU times: total: 10min 51s\n",
      "Wall time: 10min 34s\n"
     ]
    }
   ],
   "source": [
    "%%time\n",
    "my_nn.fit(train_dataloader, optimizer, loss_fn)"
   ]
  },
  {
   "cell_type": "code",
   "execution_count": 43,
   "id": "18f4c3cc",
   "metadata": {},
   "outputs": [],
   "source": [
    "lss_pred = my_nn(torch.from_numpy(test[features].values.astype(np.float32)).to(device))\n"
   ]
  },
  {
   "cell_type": "code",
   "execution_count": 44,
   "id": "a4ae58a2",
   "metadata": {},
   "outputs": [],
   "source": [
    "pred = lss_pred.to('cpu').detach().numpy()"
   ]
  },
  {
   "cell_type": "code",
   "execution_count": null,
   "id": "0a412685",
   "metadata": {},
   "outputs": [],
   "source": []
  },
  {
   "cell_type": "code",
   "execution_count": null,
   "id": "8f1e751b",
   "metadata": {},
   "outputs": [],
   "source": []
  },
  {
   "cell_type": "code",
   "execution_count": 45,
   "id": "5e93b64d",
   "metadata": {},
   "outputs": [
    {
     "data": {
      "text/plain": [
       "0.5356464384658775"
      ]
     },
     "execution_count": 45,
     "metadata": {},
     "output_type": "execute_result"
    }
   ],
   "source": [
    "roc_auc_score(test[target], pred)"
   ]
  },
  {
   "cell_type": "code",
   "execution_count": null,
   "id": "c23bbf82",
   "metadata": {},
   "outputs": [],
   "source": []
  },
  {
   "cell_type": "code",
   "execution_count": null,
   "id": "d8c63605",
   "metadata": {},
   "outputs": [],
   "source": [
    "from torch.utils.data import DataLoader\n",
    "\n",
    "batch_size = 64\n",
    "\n",
    "train_dataloader = DataLoader(\n",
    "    train_data,\n",
    "    batch_size=batch_size,\n",
    "    shuffle=True\n",
    ")"
   ]
  },
  {
   "cell_type": "code",
   "execution_count": null,
   "id": "8971d749",
   "metadata": {},
   "outputs": [],
   "source": [
    "import torch.nn as nn\n",
    "\n",
    "class MyNet(nn.Module):\n",
    "    def __init__(self, input_dim, hidden_dim, output_dim):\n",
    "        super().__init__()\n",
    "        \n",
    "        self.hidden = nn.Linear(input_dim, hidden_dim)\n",
    "        \n",
    "        self.f1 = nn.ReLU()\n",
    "        \n",
    "        self.output = nn.Linear(hidden_dim, output_dim)\n",
    "        \n",
    "        self.f2 = nn.Sigmoid()\n",
    "        \n",
    "    def forward(self, x):\n",
    "        x = self.f1(self.hidden(x))\n",
    "        x = self.f2(self.output(x))\n",
    "        \n",
    "        return x"
   ]
  },
  {
   "cell_type": "code",
   "execution_count": null,
   "id": "b34596c3",
   "metadata": {},
   "outputs": [],
   "source": [
    "my_net = MyNet(2, 16, 1)\n",
    "\n",
    "print(my_net)"
   ]
  },
  {
   "cell_type": "code",
   "execution_count": null,
   "id": "9e82b3fc",
   "metadata": {},
   "outputs": [],
   "source": [
    "y_pred = my_net(torch.from_numpy(X_test.astype(np.float32)))"
   ]
  },
  {
   "cell_type": "code",
   "execution_count": null,
   "id": "77adc793",
   "metadata": {},
   "outputs": [],
   "source": [
    "loss_fn = nn.BCELoss()\n",
    "\n",
    "optimizer = torch.optim.SGD(my_net.parameters(), lr=0.1)"
   ]
  },
  {
   "cell_type": "code",
   "execution_count": null,
   "id": "b62bbb22",
   "metadata": {},
   "outputs": [],
   "source": [
    "num_epochs = 50\n",
    "\n",
    "loss_values = []\n",
    "\n",
    "for epoch in range(num_epochs):\n",
    "    for X, y in train_dataloader:\n",
    "        \n",
    "        pred = my_net(X)\n",
    "        \n",
    "        loss = loss_fn(pred, y.unsqueeze(-1))\n",
    "        \n",
    "        optimizer.zero_grad()\n",
    "        \n",
    "        loss.backward()\n",
    "        \n",
    "        optimizer.step()\n",
    "        \n",
    "    loss = loss_fn(pred, y.unsqueeze(-1))\n",
    "    loss_values.append(loss.item())"
   ]
  },
  {
   "cell_type": "code",
   "execution_count": null,
   "id": "6b9fed78",
   "metadata": {},
   "outputs": [],
   "source": [
    "step = np.linspace(0, num_epochs)\n",
    "\n",
    "fig, ax = plt.subplots(figsize=(8,5))\n",
    "plt.plot(step, np.array(loss_values))\n",
    "plt.title('Loss')\n",
    "plt.xlabel('Epochs')\n",
    "plt.ylabel('Loss')\n",
    "plt.show()"
   ]
  },
  {
   "cell_type": "code",
   "execution_count": null,
   "id": "9f5fb6c1",
   "metadata": {},
   "outputs": [],
   "source": []
  },
  {
   "cell_type": "code",
   "execution_count": null,
   "id": "f1481a61",
   "metadata": {},
   "outputs": [],
   "source": []
  },
  {
   "cell_type": "code",
   "execution_count": null,
   "id": "82b84e3c",
   "metadata": {},
   "outputs": [],
   "source": []
  },
  {
   "cell_type": "code",
   "execution_count": null,
   "id": "b04f6e0a",
   "metadata": {},
   "outputs": [],
   "source": []
  }
 ],
 "metadata": {
  "kernelspec": {
   "display_name": "Python 3 (ipykernel)",
   "language": "python",
   "name": "python3"
  },
  "language_info": {
   "codemirror_mode": {
    "name": "ipython",
    "version": 3
   },
   "file_extension": ".py",
   "mimetype": "text/x-python",
   "name": "python",
   "nbconvert_exporter": "python",
   "pygments_lexer": "ipython3",
   "version": "3.9.18"
  }
 },
 "nbformat": 4,
 "nbformat_minor": 5
}
